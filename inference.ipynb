#Importing all useful packages
import pandas as pd 
import statistics as st
import matplotlib.pyplot as plt
import collections
import numpy as np
import scipy.stats as stats
#importing the dataset
all_the_data=pd.read_csv("student-por.csv", sep=";")
all_the_data.head() #show first 5 rows
#Creating variables for the desired Columns
study_time=all_the_data["studytime"]
travel_time=all_the_data["traveltime"]
#Counting each number frequency for the study time
collections.Counter(study_time) 
#Counting each number frequency for the travel time
collections.Counter(travel_time)
#Creating the graph for travel time
data={'1':366, '2':213, '3': 54,'4': 16} #creating dictionary with observed values
plt.bar(list(data.keys()),list(data.values()), width=1) #plotting the histogram
plt.xlabel('Travel Time from home to School (Scale 1-4)') #labeling X
plt.ylabel('Frequency') #Labeling y
#Creating the graph for study time
data={'1':212, '2':305, '3': 97,'4': 35} #creating dictionary with observed values
plt.bar(list(data.keys()),list(data.values()), width=1) #plotting the histogram
plt.xlabel('Weekly Study Time (Scale 1-4)') #label x
plt.ylabel('Frequency') #label y
#Calculating Descriptive Stats (Mode, Mean, Standard Deviation and Median) for Travel Time
x=st.mode(travel_time) 
y=st.median(travel_time)
z=st.stdev(travel_time)
w=st.mean(travel_time)
print(x,y,z,w)
#Calculating Descriptive Stats (Mode, Mean, Standard Deviation and Median) for Study Time
x=st.mode(study_time)
y=st.median(study_time)
z=st.stdev(study_time)
w=st.mean(study_time)
print(x,y,z,w)
#Calculating the Range for Travel Time
j=max(travel_time)-min(travel_time)
print(j)
#Calculating the Range for Study Time
j=max(study_time)-min(study_time)
print(j)
#Counting the total number for travel time
travel_time.count()
#Counting the total number for study time
study_time.count()
#Calculating Standard Error for Study Time
mu=st.mean(study_time)
stdev=st.stdev(study_time)
n=study_time.count()
standard_error=stdev/n**0.5
print(standard_error)
#Calculating Upper bound for study time
upper_study_time=mu+1.96*standard_error
print(upper_study_time)
#Calculating Lower bound for study time
lower_study_time=mu-1.96*standard_error
print(lower_study_time)
#Calculating Standard Error for Travel Time
mu=st.mean(travel_time)
stdev=st.stdev(travel_time)
n=travel_time.count()
standard_error=stdev/n**0.5
print(standard_error)
#Calculating Upper bound for study time
upper_travel_time=mu+1.96*standard_error
print(upper_travel_time)
#Calculating Lower bound for study time
lower_travel_time=mu-1.96*standard_error
print(lower_travel_time)
#Filtering Data
study_time_long_run=all_the_data["studytime"][all_the_data['traveltime']>2]
study_time_small_run=all_the_data["studytime"][all_the_data['traveltime']<3]
#Calculating the mean of filtered data (Long Run) 
st.mean(study_time_long_run)
#Calculating the standard deviation of filtered data (Long Run)
st.stdev(study_time_long_run)
#Calculating the mean of filtered data (Small Run)
st.mean(study_time_small_run)
#Calculating the Standard Deviation of filtered data (Small Run)
st.stdev(study_time_small_run)
#Counting amount in the sample
study_time_long_run.count()
#Counting amount in the sample
study_time_small_run.count()
#Difference of two means. Retrieved from a CS50 class
def difference_of_means_test(data1,data2,tails):
    n1 = len(study_time_long_run) #size of list
    n2 = len(study_time_small_run) 

    x1 = np.mean(study_time_long_run) #mean of list
    x2 = np.mean(study_time_small_run)

    s1 = np.std(study_time_long_run,ddof=1) # Standard deviation of list, applying Bessel’s correction: use n-1 in denominator
    s2 = np.std(study_time_small_run,ddof=1) 
    SE = np.sqrt(s1**2/n1 + s2**2/n2) # Retrieved from OpenIntro section 5.3.1

    Tscore = np.abs((x2 - x1))/SE # T-score of the difference of means
    df = min(n1,n2) - 1 # conservative estimate from OpenIntro
    pvalue = tails*stats.t.cdf(-Tscore,df) # p-value
    
    SDpooled = np.sqrt((s1**2*(n1-1) + s2**2*(n2-1))/(n1+n2-2)) # OpenIntro section 5.3.6
    Cohensd = (x2 - x1)/SDpooled # Original Cohen's D formula
    hedgesg= Cohensd * (1-(3/(4*(n1+n2)-9)))
    print ('g=', hedgesg)
    print('SE =', SE)
    print('p =',pvalue)
    print('d =',Cohensd)
    print('t =',Tscore)
    #Run function
    difference_of_means_test(study_time_long_run, study_time_small_run,2)
